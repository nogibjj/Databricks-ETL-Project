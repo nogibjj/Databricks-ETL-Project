{
 "cells": [
  {
   "cell_type": "markdown",
   "metadata": {
    "application/vnd.databricks.v1+cell": {
     "cellMetadata": {
      "byteLimit": 2048000,
      "rowLimit": 10000
     },
     "inputWidgets": {},
     "nuid": "ac8bd45c-2b72-4623-97de-a5ed62423992",
     "showTitle": false,
     "title": ""
    }
   },
   "source": [
    "# Databricks ELT Pipeline"
   ]
  },
  {
   "cell_type": "markdown",
   "metadata": {
    "application/vnd.databricks.v1+cell": {
     "cellMetadata": {
      "byteLimit": 2048000,
      "rowLimit": 10000
     },
     "inputWidgets": {},
     "nuid": "19c48dc6-f080-4d41-9741-238147789ada",
     "showTitle": false,
     "title": ""
    }
   },
   "source": [
    "## Data Extraction"
   ]
  },
  {
   "cell_type": "code",
   "execution_count": null,
   "metadata": {
    "application/vnd.databricks.v1+cell": {
     "cellMetadata": {
      "byteLimit": 2048000,
      "rowLimit": 10000
     },
     "inputWidgets": {},
     "nuid": "1133cc92-9879-4952-a45d-37188598f29a",
     "showTitle": false,
     "title": ""
    }
   },
   "outputs": [],
   "source": [
    "import json\n",
    "import os\n",
    "from pyspark.sql import SparkSession\n",
    "from pyspark.sql.types import StructType, StructField, IntegerType, StringType, DateType\n",
    "from pyspark.sql.functions import col\n",
    "from pyspark.sql.dataframe import DataFrame\n",
    "\n",
    "# Start Spark session\n",
    "spark = SparkSession.builder \\\n",
    "    .appName(\"Databricks ELT Pipeline\") \\\n",
    "    .enableHiveSupport() \\\n",
    "    .getOrCreate()\n",
    "\n",
    "# Set location of kaggle API credentials file\n",
    "file_loc = '/FileStore/my_files/kaggle.json'\n",
    "\n",
    "# Read the Kaggle API credentials\n",
    "spark_json_df = spark.read.format('json').option('header', 'true').option('inferschemma','true').load(file_loc)\n",
    "KAGGLE_USERNAME = spark_json_df.select(spark_json_df.username).take(1)[0]['username']\n",
    "KAGGLE_KEY = spark_json_df.select(spark_json_df.key).take(1)[0]['key']\n"
   ]
  },
  {
   "cell_type": "code",
   "execution_count": null,
   "metadata": {
    "application/vnd.databricks.v1+cell": {
     "cellMetadata": {
      "byteLimit": 2048000,
      "rowLimit": 10000
     },
     "inputWidgets": {},
     "nuid": "5cd56dbb-c786-4b61-bbf1-8cc650bb54e8",
     "showTitle": false,
     "title": ""
    }
   },
   "outputs": [],
   "source": [
    "def authenticate_kaggle(KAGGLE_USERNAME, KAGGLE_KEY):\n",
    "    # Set environment variables for credentials\n",
    "    os.environ['KAGGLE_USERNAME'] = KAGGLE_USERNAME\n",
    "    os.environ['KAGGLE_KEY'] = KAGGLE_KEY\n",
    "\n",
    "    from kaggle.api.kaggle_api_extended import KaggleApi\n",
    "\n",
    "    api = KaggleApi()\n",
    "    api.authenticate()\n",
    "\n",
    "    print('Kaggle authentication successful')\n",
    "\n",
    "    return api"
   ]
  },
  {
   "cell_type": "code",
   "execution_count": null,
   "metadata": {
    "application/vnd.databricks.v1+cell": {
     "cellMetadata": {
      "byteLimit": 2048000,
      "rowLimit": 10000
     },
     "inputWidgets": {},
     "nuid": "849f1fba-c739-4d93-a596-5698965d2493",
     "showTitle": false,
     "title": ""
    }
   },
   "outputs": [
    {
     "name": "stdout",
     "output_type": "stream",
     "text": [
      "File already exists, skipping download.\n"
     ]
    }
   ],
   "source": [
    "# Function to check if file exists in DBFS\n",
    "def file_exists_in_dbfs(file_path):\n",
    "    file_paths = dbutils.fs.ls(os.path.dirname(file_path))\n",
    "    for file_info in file_paths:\n",
    "        if file_info.path == file_path:\n",
    "            return True\n",
    "    return False\n",
    "\n",
    "# Set path to csv file\n",
    "file_path = 'dbfs:/FileStore/my_files/student_data.csv'\n",
    "\n",
    "if not file_exists_in_dbfs(file_path):\n",
    "    print(\"File does not exist, downloading from Kaggle...\")\n",
    "    try:\n",
    "        api = authenticate_kaggle(KAGGLE_USERNAME, KAGGLE_KEY)        \n",
    "    \n",
    "        # Download the dataset from Kaggle\n",
    "        !kaggle datasets download -d goyaladi/iit-admissions-dataset -p /dbfs/FileStore/my_files/ --unzip\n",
    "        \n",
    "    except Exception as e:\n",
    "        print(e)\n",
    "        print('Installing the module: pip install kaggle')\n",
    "        # Handle kaggle installation if neccessary\n",
    "        import sys\n",
    "        import subprocess\n",
    "\n",
    "        subprocess.check_call([sys.executable, '-m','pip','install','kaggle'])\n",
    "        api = authenticate_kaggle(KAGGLE_USERNAME, KAGGLE_KEY)\n",
    "else:\n",
    "    print(\"File already exists, skipping download.\")  "
   ]
  },
  {
   "cell_type": "markdown",
   "metadata": {
    "application/vnd.databricks.v1+cell": {
     "cellMetadata": {
      "byteLimit": 2048000,
      "rowLimit": 10000
     },
     "inputWidgets": {},
     "nuid": "18985895-7919-4834-9dd9-1b1ab1f6d83c",
     "showTitle": false,
     "title": ""
    }
   },
   "source": [
    "## Data Transformation"
   ]
  },
  {
   "cell_type": "code",
   "execution_count": null,
   "metadata": {
    "application/vnd.databricks.v1+cell": {
     "cellMetadata": {
      "byteLimit": 2048000,
      "rowLimit": 10000
     },
     "inputWidgets": {},
     "nuid": "0346b32f-9be6-4736-814b-099102fac092",
     "showTitle": false,
     "title": ""
    }
   },
   "outputs": [],
   "source": [
    "# Read the CSV file into a Spark DataFrame\n",
    "df = spark.read.csv(file_path, header=True, inferSchema=True)\n",
    "#df.printSchema()"
   ]
  },
  {
   "cell_type": "code",
   "execution_count": null,
   "metadata": {
    "application/vnd.databricks.v1+cell": {
     "cellMetadata": {
      "byteLimit": 2048000,
      "rowLimit": 10000
     },
     "inputWidgets": {},
     "nuid": "f864d528-1e0f-4ca9-8867-ff92bbd65eb6",
     "showTitle": false,
     "title": ""
    }
   },
   "outputs": [],
   "source": [
    "# Register the DataFrame as a temporary view\n",
    "df.createOrReplaceTempView(\"students\")\n",
    "\n",
    "# Use Spark SQL to calculate the total fees after discount\n",
    "transformed_df = spark.sql(\"\"\"\n",
    "SELECT *,\n",
    "       Fees - `Discount on Fees` AS `fees_after_discount`\n",
    "FROM students\n",
    "\"\"\")\n",
    "\n",
    "# Renaming columns\n",
    "renamed_df = (transformed_df\n",
    "              .withColumnRenamed(\"Student ID\", \"student_id\")\n",
    "              .withColumnRenamed(\"Student Name\", \"student_name\")\n",
    "              .withColumnRenamed(\"Date of Birth\", \"date_of_birth\")\n",
    "              .withColumnRenamed(\"Field of Study\", \"field_of_study\")\n",
    "              .withColumnRenamed(\"Year of Admission\", \"year_of_admission\")\n",
    "              .withColumnRenamed(\"Expected Year of Graduation\", \"expected_year_of_graduation\")\n",
    "              .withColumnRenamed(\"Current Semester\", \"current_semester\")\n",
    "              .withColumnRenamed(\"Specialization\", \"specialization\")\n",
    "              .withColumnRenamed(\"Fees\", \"fees\")\n",
    "              .withColumnRenamed(\"Discount on Fees\", \"discount_on_fees\")\n",
    "             )"
   ]
  },
  {
   "cell_type": "code",
   "execution_count": null,
   "metadata": {
    "application/vnd.databricks.v1+cell": {
     "cellMetadata": {
      "byteLimit": 2048000,
      "rowLimit": 10000
     },
     "inputWidgets": {},
     "nuid": "e3728779-2adf-4fe4-90e1-602467f62f1a",
     "showTitle": false,
     "title": ""
    }
   },
   "outputs": [],
   "source": [
    "# Define the schema based on the df structure\n",
    "schema = StructType([\n",
    "    StructField(\"student_id\", IntegerType(), True),\n",
    "    StructField(\"student_name\", StringType(), True),\n",
    "    StructField(\"date_of_birth\", DateType(), True),\n",
    "    StructField(\"field_of_study\", StringType(), True),\n",
    "    StructField(\"year_of_admission\", IntegerType(), True),\n",
    "    StructField(\"expected_year_of_graduation\", IntegerType(), True),\n",
    "    StructField(\"current_semester\", IntegerType(), True),\n",
    "    StructField(\"specialization\", StringType(), True),\n",
    "    StructField(\"fees\", IntegerType(), True),\n",
    "    StructField(\"discount_on_fees\", IntegerType(), True),\n",
    "    StructField(\"fees_after_discount\", IntegerType(), True)\n",
    "])\n",
    "\n",
    "# Cast the existing DataFrame to the new schema\n",
    "df_with_schema = spark.createDataFrame(renamed_df.rdd, schema=schema)\n",
    "\n",
    "table_name = 'student_data'\n",
    "\n",
    "# Write the DataFrame into the Hive metastore as a new table if not exist\n",
    "df_with_schema.write.mode(\"ignore\").saveAsTable(f\"hive_metastore.default.{table_name}\")\n",
    "\n",
    "# Assert if table is created successfully\n",
    "assert spark.catalog.tableExists(table_name) == True, f\"{table_name} creation unsuccessful\""
   ]
  },
  {
   "cell_type": "markdown",
   "metadata": {
    "application/vnd.databricks.v1+cell": {
     "cellMetadata": {
      "byteLimit": 2048000,
      "rowLimit": 10000
     },
     "inputWidgets": {},
     "nuid": "2de1f605-36ea-49ef-80ea-e7ef0c248f42",
     "showTitle": false,
     "title": ""
    }
   },
   "source": [
    "## Data Loading"
   ]
  },
  {
   "cell_type": "code",
   "execution_count": null,
   "metadata": {
    "application/vnd.databricks.v1+cell": {
     "cellMetadata": {
      "byteLimit": 2048000,
      "rowLimit": 10000
     },
     "inputWidgets": {},
     "nuid": "e859b898-197c-4b87-8bd4-bfb4d647cb07",
     "showTitle": false,
     "title": ""
    }
   },
   "outputs": [],
   "source": [
    "# Load the data into a DataFrame\n",
    "student_data_df = spark.sql(\"SELECT * FROM student_data\")\n",
    "\n",
    "# Create a temp view for analysis purposes\n",
    "student_data_df.createOrReplaceTempView(\"student_data_view\")"
   ]
  },
  {
   "cell_type": "markdown",
   "metadata": {
    "application/vnd.databricks.v1+cell": {
     "cellMetadata": {
      "byteLimit": 2048000,
      "rowLimit": 10000
     },
     "inputWidgets": {},
     "nuid": "0f3a3943-9b21-456e-b309-f495bd7eaa9f",
     "showTitle": false,
     "title": ""
    }
   },
   "source": [
    "## Data Visualization"
   ]
  },
  {
   "cell_type": "markdown",
   "metadata": {
    "application/vnd.databricks.v1+cell": {
     "cellMetadata": {
      "byteLimit": 2048000,
      "rowLimit": 10000
     },
     "inputWidgets": {},
     "nuid": "3c4a4592-5372-4281-b2be-e14b2d96e037",
     "showTitle": false,
     "title": ""
    }
   },
   "source": [
    "### Analysis - Student Count Across Five Different Fields of Study"
   ]
  },
  {
   "cell_type": "code",
   "execution_count": null,
   "metadata": {
    "application/vnd.databricks.v1+cell": {
     "cellMetadata": {
      "byteLimit": 2048000,
      "rowLimit": 10000
     },
     "inputWidgets": {},
     "nuid": "29966d86-f5a6-49d3-bfbc-cd7e040455aa",
     "showTitle": false,
     "title": ""
    }
   },
   "outputs": [
    {
     "data": {
      "text/html": [
       "<style scoped>\n",
       "  .table-result-container {\n",
       "    max-height: 300px;\n",
       "    overflow: auto;\n",
       "  }\n",
       "  table, th, td {\n",
       "    border: 1px solid black;\n",
       "    border-collapse: collapse;\n",
       "  }\n",
       "  th, td {\n",
       "    padding: 5px;\n",
       "  }\n",
       "  th {\n",
       "    text-align: left;\n",
       "  }\n",
       "</style><div class='table-result-container'><table class='table-result'><thead style='background-color: white'><tr><th>field_of_study</th><th>student_count</th></tr></thead><tbody><tr><td>Electrical Engineering</td><td>40305</td></tr><tr><td>Chemical Engineering</td><td>40020</td></tr><tr><td>Mechanical Engineering</td><td>39941</td></tr><tr><td>Computer Science</td><td>39960</td></tr><tr><td>Civil Engineering</td><td>39774</td></tr></tbody></table></div>"
      ]
     },
     "metadata": {
      "application/vnd.databricks.v1+output": {
       "addedWidgets": {},
       "aggData": [],
       "aggError": "",
       "aggOverflow": false,
       "aggSchema": [],
       "aggSeriesLimitReached": false,
       "aggType": "",
       "arguments": {},
       "columnCustomDisplayInfos": {},
       "data": [
        [
         "Electrical Engineering",
         40305
        ],
        [
         "Chemical Engineering",
         40020
        ],
        [
         "Mechanical Engineering",
         39941
        ],
        [
         "Computer Science",
         39960
        ],
        [
         "Civil Engineering",
         39774
        ]
       ],
       "datasetInfos": [],
       "dbfsResultPath": null,
       "isJsonSchema": true,
       "metadata": {},
       "overflow": false,
       "plotOptions": {
        "customPlotOptions": {},
        "displayType": "table",
        "pivotAggregation": null,
        "pivotColumns": null,
        "xColumns": null,
        "yColumns": null
       },
       "removedWidgets": [],
       "schema": [
        {
         "metadata": "{}",
         "name": "field_of_study",
         "type": "\"string\""
        },
        {
         "metadata": "{}",
         "name": "student_count",
         "type": "\"long\""
        }
       ],
       "type": "table"
      }
     },
     "output_type": "display_data"
    },
    {
     "data": {
      "image/png": "[encoded data removed]",
      "text/plain": [
       "<Figure size 1200x600 with 1 Axes>"
      ]
     },
     "metadata": {},
     "output_type": "display_data"
    }
   ],
   "source": [
    "import pandas as pd\n",
    "import matplotlib.pyplot as plt\n",
    "\n",
    "\n",
    "# Perform a groupBy operation and count the number of students in each field\n",
    "students_by_field_df = spark.sql(\"\"\"\n",
    "SELECT field_of_study, COUNT(*) as student_count\n",
    "FROM student_data_view\n",
    "GROUP BY field_of_study\n",
    "\"\"\")\n",
    "\n",
    "# Convert the DataFrame to Pandas for plotting\n",
    "df = students_by_field_df.toPandas()\n",
    "display(df)\n",
    "# Plotting the bar chart\n",
    "plt.figure(figsize=(12, 6))\n",
    "plt.bar(df['field_of_study'], df['student_count'], color='skyblue')\n",
    "plt.xlabel('Field of Study')\n",
    "plt.ylabel('Number of Students')\n",
    "plt.title('Students by field of study')\n",
    "plt.xticks(rotation=45, ha='right')  \n",
    "plt.tight_layout()  \n",
    "plt.show()"
   ]
  },
  {
   "cell_type": "markdown",
   "metadata": {
    "application/vnd.databricks.v1+cell": {
     "cellMetadata": {
      "byteLimit": 2048000,
      "rowLimit": 10000
     },
     "inputWidgets": {},
     "nuid": "31c90c7e-6df3-4ba1-a613-abcb0d5c9581",
     "showTitle": false,
     "title": ""
    }
   },
   "source": [
    "This analysis outlines the student count across five different fields of study, indicating a fairly even distribution of students within each discipline. The fields of Electrical Engineering and Chemical Engineering have slightly higher student counts, with 40,305 and 40,020 students respectively, while Civil Engineering has the lowest at 39,774. The marginal differences suggest a balanced appeal and capacity of the institution's programs. Such parity in enrollment figures might reflect well-designed course offerings and resources allocated evenly across departments, ensuring no single program is over or under-subscribed. This balance is beneficial for maintaining diverse academic communities and optimizing resource utilization."
   ]
  },
  {
   "cell_type": "markdown",
   "metadata": {
    "application/vnd.databricks.v1+cell": {
     "cellMetadata": {
      "byteLimit": 2048000,
      "rowLimit": 10000
     },
     "inputWidgets": {},
     "nuid": "228339bf-0af2-45e2-ab64-3f09c17f1545",
     "showTitle": false,
     "title": ""
    }
   },
   "source": [
    "### Analysis - Average Fees After Discount by Field of Study"
   ]
  },
  {
   "cell_type": "code",
   "execution_count": null,
   "metadata": {
    "application/vnd.databricks.v1+cell": {
     "cellMetadata": {
      "byteLimit": 2048000,
      "rowLimit": 10000
     },
     "inputWidgets": {},
     "nuid": "7e00dc19-063e-4a6d-9c4c-9ae866391963",
     "showTitle": false,
     "title": ""
    }
   },
   "outputs": [
    {
     "data": {
      "text/html": [
       "<style scoped>\n",
       "  .table-result-container {\n",
       "    max-height: 300px;\n",
       "    overflow: auto;\n",
       "  }\n",
       "  table, th, td {\n",
       "    border: 1px solid black;\n",
       "    border-collapse: collapse;\n",
       "  }\n",
       "  th, td {\n",
       "    padding: 5px;\n",
       "  }\n",
       "  th {\n",
       "    text-align: left;\n",
       "  }\n",
       "</style><div class='table-result-container'><table class='table-result'><thead style='background-color: white'><tr><th>field_of_study</th><th>avg_fees_after_discount</th></tr></thead><tbody><tr><td>Electrical Engineering</td><td>112629.54</td></tr><tr><td>Chemical Engineering</td><td>112700.74</td></tr><tr><td>Mechanical Engineering</td><td>112558.66</td></tr><tr><td>Computer Science</td><td>112570.15</td></tr><tr><td>Civil Engineering</td><td>112583.39</td></tr></tbody></table></div>"
      ]
     },
     "metadata": {
      "application/vnd.databricks.v1+output": {
       "addedWidgets": {},
       "aggData": [],
       "aggError": "",
       "aggOverflow": false,
       "aggSchema": [],
       "aggSeriesLimitReached": false,
       "aggType": "",
       "arguments": {},
       "columnCustomDisplayInfos": {},
       "data": [
        [
         "Electrical Engineering",
         112629.54
        ],
        [
         "Chemical Engineering",
         112700.74
        ],
        [
         "Mechanical Engineering",
         112558.66
        ],
        [
         "Computer Science",
         112570.15
        ],
        [
         "Civil Engineering",
         112583.39
        ]
       ],
       "datasetInfos": [],
       "dbfsResultPath": null,
       "isJsonSchema": true,
       "metadata": {},
       "overflow": false,
       "plotOptions": {
        "customPlotOptions": {},
        "displayType": "table",
        "pivotAggregation": null,
        "pivotColumns": null,
        "xColumns": null,
        "yColumns": null
       },
       "removedWidgets": [],
       "schema": [
        {
         "metadata": "{}",
         "name": "field_of_study",
         "type": "\"string\""
        },
        {
         "metadata": "{}",
         "name": "avg_fees_after_discount",
         "type": "\"double\""
        }
       ],
       "type": "table"
      }
     },
     "output_type": "display_data"
    },
    {
     "data": {
      "image/png": "[encoded data removed]",
      "text/plain": [
       "<Figure size 640x480 with 1 Axes>"
      ]
     },
     "metadata": {},
     "output_type": "display_data"
    }
   ],
   "source": [
    "\n",
    "average_fees_df = spark.sql(\"\"\"\n",
    "SELECT field_of_study, ROUND(AVG(`fees_after_discount`), 2) as avg_fees_after_discount\n",
    "FROM student_data_view\n",
    "GROUP BY field_of_study\n",
    "\"\"\")\n",
    "\n",
    "# Convert to Pandas DataFrame for plotting\n",
    "df = average_fees_df.toPandas()\n",
    "display(df)\n",
    "# Creating the pie chart\n",
    "plt.pie(df['avg_fees_after_discount'], labels=df['field_of_study'], autopct='%.2f', startangle=140)\n",
    "plt.title('Average fees after discount')\n",
    "plt.axis('equal')\n",
    "plt.show()"
   ]
  },
  {
   "cell_type": "markdown",
   "metadata": {
    "application/vnd.databricks.v1+cell": {
     "cellMetadata": {
      "byteLimit": 2048000,
      "rowLimit": 10000
     },
     "inputWidgets": {},
     "nuid": "af877cfb-76f1-440b-8c90-ee9cd91c84c7",
     "showTitle": false,
     "title": ""
    }
   },
   "source": [
    "This analysis reveals a consistent fee structure across various engineering and computer science programs, with average fees after discounts showing minimal variation among fields such as Electrical, Chemical, Mechanical, Computer Science, and Civil Engineering. The slight differences in fees, with Chemical Engineering at the higher end, suggest a standardized approach to pricing that reflects an institutional strategy of maintaining parity in educational costs. This uniformity in pricing may be part of a broader effort to attract a diverse student body across all technical disciplines without financial bias toward any specific field of study."
   ]
  },
  {
   "cell_type": "code",
   "execution_count": null,
   "metadata": {
    "application/vnd.databricks.v1+cell": {
     "cellMetadata": {
      "byteLimit": 2048000,
      "rowLimit": 10000
     },
     "inputWidgets": {},
     "nuid": "6fc49df6-b00b-4168-9f41-5d9e516b564e",
     "showTitle": false,
     "title": ""
    }
   },
   "outputs": [
    {
     "data": {
      "text/html": [
       "<style scoped>\n",
       "  .table-result-container {\n",
       "    max-height: 300px;\n",
       "    overflow: auto;\n",
       "  }\n",
       "  table, th, td {\n",
       "    border: 1px solid black;\n",
       "    border-collapse: collapse;\n",
       "  }\n",
       "  th, td {\n",
       "    padding: 5px;\n",
       "  }\n",
       "  th {\n",
       "    text-align: left;\n",
       "  }\n",
       "</style><div class='table-result-container'><table class='table-result'><thead style='background-color: white'><tr><th>year_of_admission</th><th>average_fees</th><th>average_discount</th></tr></thead><tbody><tr><td>2016</td><td>124993.21</td><td>12435.22</td></tr><tr><td>2017</td><td>125266.5</td><td>12488.46</td></tr><tr><td>2018</td><td>124680.1</td><td>12402.08</td></tr><tr><td>2019</td><td>125067.09</td><td>12505.58</td></tr><tr><td>2020</td><td>125328.41</td><td>12543.99</td></tr><tr><td>2021</td><td>125293.69</td><td>12552.9</td></tr><tr><td>2022</td><td>125020.85</td><td>12462.03</td></tr></tbody></table></div>"
      ]
     },
     "metadata": {
      "application/vnd.databricks.v1+output": {
       "addedWidgets": {},
       "aggData": [],
       "aggError": "",
       "aggOverflow": false,
       "aggSchema": [],
       "aggSeriesLimitReached": false,
       "aggType": "",
       "arguments": {},
       "columnCustomDisplayInfos": {},
       "data": [
        [
         2016,
         124993.21,
         12435.22
        ],
        [
         2017,
         125266.5,
         12488.46
        ],
        [
         2018,
         124680.1,
         12402.08
        ],
        [
         2019,
         125067.09,
         12505.58
        ],
        [
         2020,
         125328.41,
         12543.99
        ],
        [
         2021,
         125293.69,
         12552.9
        ],
        [
         2022,
         125020.85,
         12462.03
        ]
       ],
       "datasetInfos": [],
       "dbfsResultPath": null,
       "isJsonSchema": true,
       "metadata": {},
       "overflow": false,
       "plotOptions": {
        "customPlotOptions": {},
        "displayType": "table",
        "pivotAggregation": null,
        "pivotColumns": null,
        "xColumns": null,
        "yColumns": null
       },
       "removedWidgets": [],
       "schema": [
        {
         "metadata": "{}",
         "name": "year_of_admission",
         "type": "\"integer\""
        },
        {
         "metadata": "{}",
         "name": "average_fees",
         "type": "\"double\""
        },
        {
         "metadata": "{}",
         "name": "average_discount",
         "type": "\"double\""
        }
       ],
       "type": "table"
      }
     },
     "output_type": "display_data"
    },
    {
     "data": {
      "image/png": "[encoded data removed]",
      "text/plain": [
       "<Figure size 1000x500 with 1 Axes>"
      ]
     },
     "metadata": {},
     "output_type": "display_data"
    }
   ],
   "source": [
    "# Query to compare initial fees and discount rates across different cohorts\n",
    "fees_discount_query = \"\"\"\n",
    "SELECT \n",
    "    year_of_admission, \n",
    "    ROUND(AVG(fees), 2) AS average_fees, \n",
    "    ROUND(AVG(discount_on_fees), 2) AS average_discount\n",
    "FROM \n",
    "    student_data_view\n",
    "GROUP BY \n",
    "    year_of_admission\n",
    "ORDER BY \n",
    "    year_of_admission\n",
    "\"\"\"\n",
    "\n",
    "df = spark.sql(fees_discount_query)\n",
    "display(df)\n",
    "# Convert the Spark DataFrame to a Pandas DataFrame\n",
    "pandas_df = df.toPandas()\n",
    "\n",
    "years = pandas_df[\"year_of_admission\"]\n",
    "average_fees = pandas_df[\"average_fees\"]\n",
    "average_discounts = pandas_df[\"average_discount\"]\n",
    "\n",
    "# Plotting the data\n",
    "plt.figure(figsize=(10, 5))\n",
    "\n",
    "# Plot average fees line\n",
    "plt.plot(years, average_fees, marker='o', label='Average Fees', color='blue')\n",
    "\n",
    "# Plot average discounts line\n",
    "plt.plot(years, average_discounts, marker='s', label='Average Discounts', color='orange')\n",
    "\n",
    "# Add titles and labels\n",
    "plt.title('Average Fees and Discounts Over Time')\n",
    "plt.xlabel('Year of Admission')\n",
    "plt.ylabel('Amount ($)')\n",
    "plt.xticks(years)  # Set x-axis ticks to be the years\n",
    "plt.legend()\n",
    "\n",
    "# Show the plot\n",
    "plt.tight_layout()\n",
    "plt.show()"
   ]
  },
  {
   "cell_type": "markdown",
   "metadata": {
    "application/vnd.databricks.v1+cell": {
     "cellMetadata": {
      "byteLimit": 2048000,
      "rowLimit": 10000
     },
     "inputWidgets": {},
     "nuid": "89ae3c86-96b7-4c37-960b-cfab45063d6b",
     "showTitle": false,
     "title": ""
    }
   },
   "source": [
    "This analysis showcases the average fees and discounts for student cohorts from 2016 to 2022, showing a stable fee structure with slight annual fluctuations. Over these seven years, average fees hover around the 125,000 mark, while average discounts remain close to 12,500. The consistency in fees suggests a controlled pricing strategy without significant increases, possibly reflecting a commitment to keeping education costs predictable. Notably, the discount amount also remains relatively stable, indicating a steady financial aid policy. The year 2020 stands out with the highest average fees and discounts, hinting at a potential response to unique circumstances such as the onset of the COVID-19 pandemic. Overall, the institution's approach to pricing and discounts appears methodical and consistent year over year."
   ]
  },
  {
   "cell_type": "markdown",
   "metadata": {
    "application/vnd.databricks.v1+cell": {
     "cellMetadata": {
      "byteLimit": 2048000,
      "rowLimit": 10000
     },
     "inputWidgets": {},
     "nuid": "26510b4a-b55f-4164-b7d4-ba04c71de0ae",
     "showTitle": false,
     "title": ""
    }
   },
   "source": [
    "## Conclusion & Recommendations"
   ]
  },
  {
   "cell_type": "markdown",
   "metadata": {
    "application/vnd.databricks.v1+cell": {
     "cellMetadata": {},
     "inputWidgets": {},
     "nuid": "3a8df48f-4faa-45c4-860c-6f218fede5e5",
     "showTitle": false,
     "title": ""
    }
   },
   "source": [
    "The analyses conducted on the student data from 2016 to 2022 reveal several key findings:\n",
    "\n",
    "1. **Stable Fee Structure:** The average fees for students remain relatively consistent over the years, with slight fluctuations, indicating a stable tuition pricing policy by the institution.\n",
    "\n",
    "2. **Consistent Discount Policy:** Average discounts offered to students also show minimal variation, suggesting a steady financial aid strategy that aligns closely with the fees charged.\n",
    "\n",
    "3. **Balanced Enrollment:** Student counts across various fields of study like Electrical, Chemical, Mechanical, Computer Science, and Civil Engineering are evenly distributed, reflecting an equitable appeal of the institution's academic programs.\n",
    "\n",
    "4. **Slight Yearly Variations:** The year 2020 shows a marginal increase in both fees and discounts, which may correlate with special circumstances such as adjustments made due to the COVID-19 pandemic.\n",
    "\n",
    "Based on these observations, the following recommendations can be made:\n",
    "\n",
    "1. **Review Fee Adjustments:** Given the relatively stable fee and discount trends, the institution should continue to monitor these closely, ensuring they reflect inflation and cost-of-living changes without burdening students financially.\n",
    "\n",
    "2. **Analyze External Factors:** An investigation into the fee and discount spike in 2020 may provide insights into how external factors affect financial policies, helping to better prepare for future anomalies.\n",
    "\n",
    "3. **Enhance Marketing Strategies:** The balanced enrollment across fields suggests effective marketing and program development. These strategies should be maintained and, where possible, enhanced to attract an even more diverse student body.\n",
    "\n",
    "4. **Further Research on Retention:** Additional research could be beneficial to understand the retention dynamics within the student cohorts, aiming to improve student engagement and success rates.\n",
    "\n",
    "5. **Financial Aid Optimization:** The institution could consider tailoring financial aid packages more closely with students' needs and backgrounds, potentially using a data-driven approach to optimize aid distribution.\n",
    "\n",
    "6. **Longitudinal Tracking:** Establish a system for longitudinal tracking of cohorts to gain deeper insights into student progression and outcomes, informing academic support services and policy adjustments.\n",
    "\n",
    "By maintaining its current strategies while also considering these recommendations, the institution can continue to uphold its academic standards and financial sustainability."
   ]
  }
 ],
 "metadata": {
  "application/vnd.databricks.v1+notebook": {
   "dashboards": [],
   "language": "python",
   "notebookMetadata": {
    "mostRecentlyExecutedCommandWithImplicitDF": {
     "commandId": 3775857460855228,
     "dataframes": [
      "_sqldf"
     ]
    },
    "pythonIndentUnit": 4
   },
   "notebookName": "Databricks_ETL_Pipeline",
   "widgets": {}
  },
  "language_info": {
   "name": "python"
  }
 },
 "nbformat": 4,
 "nbformat_minor": 0
}
